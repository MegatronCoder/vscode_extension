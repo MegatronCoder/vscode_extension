{
 "cells": [
  {
   "cell_type": "code",
   "execution_count": 4,
   "metadata": {},
   "outputs": [],
   "source": [
    "import numpy as np\n",
    "weight = [2,3,4,5]\n",
    "profit = [1,2,5,6]\n",
    "n = 4\n",
    "w = 8"
   ]
  },
  {
   "cell_type": "code",
   "execution_count": 7,
   "metadata": {},
   "outputs": [
    {
     "name": "stdout",
     "output_type": "stream",
     "text": [
      "Row1  (considering 1 items) :  [0. 0. 1. 1. 1. 1. 1. 1. 1.]\n",
      "Row2  (considering 2 items) :  [0. 0. 1. 2. 2. 3. 3. 3. 3.]\n",
      "Row3  (considering 3 items) :  [0. 0. 1. 2. 5. 5. 6. 7. 7.]\n",
      "Row4  (considering 4 items) :  [0. 0. 1. 2. 5. 6. 6. 7. 8.]\n"
     ]
    }
   ],
   "source": [
    "profit_matrix = np.zeros((n+1,w+1))\n",
    "\n",
    "def calculate_profit(weight, profit, i, w):\n",
    "\n",
    "    # i => row ,   j (w) => column\n",
    "\n",
    "    if i==0 or w<=0:         # 1st row is always one\n",
    "        return 0\n",
    "    \n",
    "    if weight[i-1]>w:        # if weight exceeds bag capacity\n",
    "        return profit_matrix[i-1][w]\n",
    "    \n",
    "    # profit w/o current object\n",
    "    t2 = profit_matrix[i-1][w]   \n",
    "    \n",
    "    # profit with current object\n",
    "    t1 = profit_matrix[i-1][w-weight[i-1]] + profit[i-1]\n",
    "\n",
    "    return max(t1,t2)\n",
    "\n",
    "\n",
    "# loop over to calculate all possibilities for profit\n",
    "for i in range(1, n+1):\n",
    "    for j in range(1, w+1):\n",
    "        profit_matrix[i][j] = calculate_profit(weight, profit, i, j)\n",
    "\n",
    "    print(f\"Row{i}  (considering {i} items) : \", profit_matrix[i])"
   ]
  },
  {
   "cell_type": "code",
   "execution_count": 8,
   "metadata": {},
   "outputs": [
    {
     "name": "stdout",
     "output_type": "stream",
     "text": [
      "\n",
      "Final profit matrix:\n",
      "[[0. 0. 0. 0. 0. 0. 0. 0. 0.]\n",
      " [0. 0. 1. 1. 1. 1. 1. 1. 1.]\n",
      " [0. 0. 1. 2. 2. 3. 3. 3. 3.]\n",
      " [0. 0. 1. 2. 5. 5. 6. 7. 7.]\n",
      " [0. 0. 1. 2. 5. 6. 6. 7. 8.]]\n",
      "\n",
      "Maximum profit: 8.0\n",
      "[3, 1]\n"
     ]
    }
   ],
   "source": [
    "def find_selected_items_for_max_profit(profit_matrix, weight, profit, n, w):\n",
    "    selected_items = []\n",
    "    current_w = w\n",
    "    for i in range(n, 0, -1):\n",
    "        if profit_matrix[i][current_w] != profit_matrix[i-1][current_w]:\n",
    "            selected_items.append(i-1)\n",
    "            current_w -= weight[i-1]\n",
    "    return selected_items\n",
    "\n",
    "\n",
    "selected = find_selected_items_for_max_profit(profit_matrix, weight, profit, n, w)\n",
    "print(\"\\nFinal profit matrix:\")\n",
    "print(profit_matrix)\n",
    "print(f\"\\nMaximum profit: {profit_matrix[n][w]}\")\n",
    "print(selected)"
   ]
  },
  {
   "cell_type": "code",
   "execution_count": null,
   "metadata": {},
   "outputs": [],
   "source": []
  }
 ],
 "metadata": {
  "kernelspec": {
   "display_name": "Python 3",
   "language": "python",
   "name": "python3"
  },
  "language_info": {
   "codemirror_mode": {
    "name": "ipython",
    "version": 3
   },
   "file_extension": ".py",
   "mimetype": "text/x-python",
   "name": "python",
   "nbconvert_exporter": "python",
   "pygments_lexer": "ipython3",
   "version": "3.8.10"
  }
 },
 "nbformat": 4,
 "nbformat_minor": 2
}
