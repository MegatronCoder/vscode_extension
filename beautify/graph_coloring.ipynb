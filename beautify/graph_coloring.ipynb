{
 "cells": [
  {
   "cell_type": "code",
   "execution_count": null,
   "metadata": {},
   "outputs": [],
   "source": [
    "\n",
    "def is_safe (graph, frequencies, station, freq):\n",
    "\n",
    "    # check in all possible station connections and its freq as well\n",
    "   \n",
    "    for i in range(len(graph)):\n",
    "\n",
    "        if graph[station][i] == 1 and frequencies[i] == freq :\n",
    "            return False\n",
    "\n",
    "    return True\n",
    "\n"
   ]
  },
  {
   "cell_type": "code",
   "execution_count": null,
   "metadata": {},
   "outputs": [],
   "source": [
    "def allocate_freq(graph, no_of_stations, frequencies, station):\n",
    "    \n",
    "    if station == no_of_stations:    # 0 station exists\n",
    "        return True\n",
    "\n",
    "    # Iterate all freq for max stations \n",
    "    for freq in range(1, no_of_stations + 1 ):\n",
    "        \n",
    "        if is_safe(graph, frequencies, station, freq):\n",
    "\n",
    "            # assign freq\n",
    "            frequencies[station] = freq\n",
    "\n",
    "            # check next station \n",
    "            if allocate_freq(graph, no_of_stations, frequencies, station+1):\n",
    "                return True\n",
    "            \n",
    "            # else backtrack\n",
    "            frequencies[station] = 0\n",
    "            \n",
    "    return False"
   ]
  },
  {
   "cell_type": "code",
   "execution_count": null,
   "metadata": {},
   "outputs": [],
   "source": [
    "def solve_frequency_allocation(graph):\n",
    "\n",
    "    no_of_stations = len(graph)\n",
    "\n",
    "    # initialise empty array for all stations\n",
    "    frequencies = [0] * no_of_stations\n",
    "    \n",
    "    \n",
    "    if allocate_freq(graph, no_of_stations, frequencies, 0):\n",
    "        print(\"Solution exists! The assigned frequencies are:\")\n",
    "        print(frequencies)\n",
    "        unique_freqs = len(set(frequencies))\n",
    "        print(f\"Number of unique frequencies used: {unique_freqs}\")\n",
    "        return frequencies\n",
    "    else:\n",
    "        print(\"No solution exists!\")\n",
    "        return None"
   ]
  },
  {
   "cell_type": "code",
   "execution_count": 18,
   "metadata": {},
   "outputs": [
    {
     "name": "stdout",
     "output_type": "stream",
     "text": [
      "Solution exists! The assigned frequencies are:\n",
      "[1, 2, 3, 2]\n",
      "Number of unique frequencies used: 3\n"
     ]
    }
   ],
   "source": [
    "graph = [\n",
    "    [0, 1, 1, 1],\n",
    "    [1, 0, 1, 0],\n",
    "    [1, 1, 0, 1],\n",
    "    [1, 0, 1, 0]\n",
    "]\n",
    "\n",
    "result = solve_frequency_allocation(graph)"
   ]
  },
  {
   "cell_type": "code",
   "execution_count": null,
   "metadata": {},
   "outputs": [],
   "source": []
  }
 ],
 "metadata": {
  "kernelspec": {
   "display_name": "Python 3",
   "language": "python",
   "name": "python3"
  },
  "language_info": {
   "codemirror_mode": {
    "name": "ipython",
    "version": 3
   },
   "file_extension": ".py",
   "mimetype": "text/x-python",
   "name": "python",
   "nbconvert_exporter": "python",
   "pygments_lexer": "ipython3",
   "version": "3.12.6"
  }
 },
 "nbformat": 4,
 "nbformat_minor": 2
}
