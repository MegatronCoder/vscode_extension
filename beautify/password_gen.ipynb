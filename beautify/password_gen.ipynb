{
 "cells": [
  {
   "cell_type": "code",
   "execution_count": null,
   "metadata": {},
   "outputs": [
    {
     "name": "stdout",
     "output_type": "stream",
     "text": [
      "Weak password: Password must be at least 8 characters long.\n",
      "Suggested strong passwords:\n",
      "m<ANTHa3n\n",
      "MA7+ntHan\n",
      "mA0N:ThAn\n"
     ]
    }
   ],
   "source": [
    "import random\n",
    "import string\n",
    "\n",
    "def check_password_strength(password):\n",
    "\n",
    "    if len(password) < 8:\n",
    "        return False, \"Password must be at least 8 characters long.\"\n",
    "\n",
    "    if not any(c.islower() for c in password):\n",
    "        return False, \"Password must contain at least one lowercase letter.\"\n",
    "\n",
    "    if not any(c.isupper() for c in password):\n",
    "        return False, \"Password must contain at least one uppercase letter.\"\n",
    "\n",
    "    if not any(c.isdigit() for c in password):\n",
    "        return False, \"Password must contain at least one digit.\"\n",
    "\n",
    "    if not any(c in string.punctuation for c in password):\n",
    "        return False, \"Password must contain at least one special character.\"\n",
    "\n",
    "    return True, \"Strong password.\"\n",
    "\n",
    "\n",
    "\n",
    "def suggest_strong_password(base_word):\n",
    "    \n",
    "    special_chars = string.punctuation\n",
    "    # Ensure at least one uppercase letter\n",
    "    password = ''.join(\n",
    "        random.choice((char.upper(), char.lower())) if char.isalpha() else char\n",
    "        for char in base_word\n",
    "    )\n",
    "\n",
    "    # Insert a special character at a random position\n",
    "    pos_special = random.randint(1, len(password) - 1)\n",
    "    password = password[:pos_special] + random.choice(special_chars) + password[pos_special:]\n",
    "\n",
    "    # Insert a digit at a random position\n",
    "    pos_digit = random.randint(1, len(password))\n",
    "    password = password[:pos_digit] + str(random.randint(0, 9)) + password[pos_digit:]\n",
    "\n",
    "    return password\n",
    "\n",
    "\n",
    "user_password = input(\"Enter a password to check: \")\n",
    "is_strong, message = check_password_strength(user_password)\n",
    "\n",
    "if is_strong:\n",
    "    print(\"Password is strong.\")\n",
    "else:\n",
    "    print(f\"Weak password: {message}\")\n",
    "    base_word = input(\"Enter a base word for password suggestions: \")\n",
    "    print(\"Suggested strong passwords:\")\n",
    "    for _ in range(3):  # Suggest three passwords\n",
    "        print(suggest_strong_password(base_word))\n"
   ]
  },
  {
   "cell_type": "code",
   "execution_count": null,
   "metadata": {},
   "outputs": [],
   "source": []
  }
 ],
 "metadata": {
  "kernelspec": {
   "display_name": "Python 3",
   "language": "python",
   "name": "python3"
  },
  "language_info": {
   "codemirror_mode": {
    "name": "ipython",
    "version": 3
   },
   "file_extension": ".py",
   "mimetype": "text/x-python",
   "name": "python",
   "nbconvert_exporter": "python",
   "pygments_lexer": "ipython3",
   "version": "3.12.6"
  }
 },
 "nbformat": 4,
 "nbformat_minor": 2
}
