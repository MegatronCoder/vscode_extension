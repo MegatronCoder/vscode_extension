{
 "cells": [
  {
   "cell_type": "code",
   "execution_count": 8,
   "metadata": {},
   "outputs": [],
   "source": [
    "import heapq\n",
    "class node:\n",
    "    def __init__(self, char, freq, left=None, right=None):\n",
    "        self.char = char\n",
    "        self.freq = freq\n",
    "        self.left = left\n",
    "        self.right = right\n",
    "        self.huff = \"\"             # for huff code \n",
    "\n",
    "    def __lt__(self, next):\n",
    "        return self.freq < next.freq\n"
   ]
  },
  {
   "cell_type": "code",
   "execution_count": 14,
   "metadata": {},
   "outputs": [],
   "source": [
    "def print_nodes(node, val =\"\"):\n",
    "\n",
    "    new_val = val + str(node.huff)\n",
    "    \n",
    "    if(node.left):\n",
    "        print_nodes(node.left, new_val)\n",
    "    if(node.right):\n",
    "        print_nodes(node.right, new_val)\n",
    "\n",
    "    if(not node.left and not node.right):\n",
    "        print(f\"{node.freq} -> {new_val}\")"
   ]
  },
  {
   "cell_type": "code",
   "execution_count": 15,
   "metadata": {},
   "outputs": [],
   "source": [
    "chars = ['a', 'b', 'c', 'd', 'e', 'f']\n",
    "freq = [5, 9, 12, 13, 16, 45]\n",
    "nodes = []    # nodes to trace"
   ]
  },
  {
   "cell_type": "code",
   "execution_count": 16,
   "metadata": {},
   "outputs": [],
   "source": [
    "for i in range(len(chars)):\n",
    "    heapq.heappush(nodes, node(chars[i], freq[i]))"
   ]
  },
  {
   "cell_type": "code",
   "execution_count": 17,
   "metadata": {},
   "outputs": [],
   "source": [
    "while len(nodes) > 1:\n",
    "    left =  heapq.heappop(nodes)\n",
    "    right = heapq.heappop(nodes)\n",
    "\n",
    "    left.huff = 0\n",
    "    right.huff = 1\n",
    "\n",
    "    newnode = node(left.char+right.char, left.freq+right.freq, left, right)\n",
    "    heapq.heappush(nodes, newnode)\n",
    "\n",
    "    "
   ]
  },
  {
   "cell_type": "code",
   "execution_count": 19,
   "metadata": {},
   "outputs": [
    {
     "name": "stdout",
     "output_type": "stream",
     "text": [
      "45 -> 0\n",
      "12 -> 100\n",
      "13 -> 101\n",
      "5 -> 1100\n",
      "9 -> 1101\n",
      "16 -> 111\n"
     ]
    }
   ],
   "source": [
    "print_nodes(nodes[0])"
   ]
  }
 ],
 "metadata": {
  "kernelspec": {
   "display_name": "Python 3",
   "language": "python",
   "name": "python3"
  },
  "language_info": {
   "codemirror_mode": {
    "name": "ipython",
    "version": 3
   },
   "file_extension": ".py",
   "mimetype": "text/x-python",
   "name": "python",
   "nbconvert_exporter": "python",
   "pygments_lexer": "ipython3",
   "version": "3.12.6"
  }
 },
 "nbformat": 4,
 "nbformat_minor": 2
}
