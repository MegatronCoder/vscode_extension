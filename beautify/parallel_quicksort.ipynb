{
 "cells": [
  {
   "cell_type": "code",
   "execution_count": 2,
   "metadata": {},
   "outputs": [
    {
     "name": "stdout",
     "output_type": "stream",
     "text": [
      "[0, 1, 3, 3, 5, 6]\n"
     ]
    }
   ],
   "source": [
    "from concurrent.futures import ThreadPoolExecutor\n",
    "\n",
    "def swap(i, j, arr):\n",
    "    arr[i], arr[j] = arr[j], arr[i]\n",
    "\n",
    "def partition(low, high, arr):\n",
    "    pivot = arr[low]\n",
    "    i, j = low, high\n",
    "    while True:\n",
    "        while i <= high and arr[i] <= pivot:\n",
    "            i += 1\n",
    "        while j >= low + 1 and arr[j] > pivot:\n",
    "            j -= 1\n",
    "        if i > j:\n",
    "            break\n",
    "        swap(i, j, arr)\n",
    "    swap(low, j, arr)\n",
    "    return j\n",
    "\n",
    "\n",
    "def parallel_quicksort(low, high, arr, max_workers=4):\n",
    "    if low < high:\n",
    "        j = partition(low, high, arr)\n",
    "        with ThreadPoolExecutor(max_workers=max_workers) as executor:\n",
    "            left = executor.submit(parallel_quicksort, low, j - 1, arr, max_workers)\n",
    "            right = executor.submit(parallel_quicksort, j + 1, high, arr, max_workers)\n",
    "            left.result()\n",
    "            right.result()\n",
    "\n",
    "\n",
    "array1 = [6, 3, 5, 3, 1, 0]\n",
    "parallel_quicksort(0, len(array1) - 1, array1)\n",
    "print(array1)"
   ]
  },
  {
   "cell_type": "code",
   "execution_count": null,
   "metadata": {},
   "outputs": [],
   "source": []
  }
 ],
 "metadata": {
  "kernelspec": {
   "display_name": "Python 3",
   "language": "python",
   "name": "python3"
  },
  "language_info": {
   "codemirror_mode": {
    "name": "ipython",
    "version": 3
   },
   "file_extension": ".py",
   "mimetype": "text/x-python",
   "name": "python",
   "nbconvert_exporter": "python",
   "pygments_lexer": "ipython3",
   "version": "3.12.6"
  }
 },
 "nbformat": 4,
 "nbformat_minor": 2
}
