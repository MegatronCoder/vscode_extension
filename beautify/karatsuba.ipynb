{
 "cells": [
  {
   "cell_type": "code",
   "execution_count": null,
   "metadata": {},
   "outputs": [
    {
     "name": "stdout",
     "output_type": "stream",
     "text": [
      "Product in binary: 11000011\n",
      "Product in decimal: 195\n"
     ]
    }
   ],
   "source": [
    "def karatsuba(x,y):\n",
    "\n",
    "    if x<10 or y<10:\n",
    "        return x*y\n",
    "\n",
    "\n",
    "    # find max of half decimal length among 2 numbers\n",
    "\n",
    "    dec_len = max( len( str(x)), len(str(y)) )\n",
    "    half = dec_len//2\n",
    "\n",
    "\n",
    "    # calculate quotient, remainder \n",
    "    high1, low1 = divmod(x, 10**half)\n",
    "    high2, low2 = divmod(y, 10**half)\n",
    "\n",
    "\n",
    "    # recursion\n",
    "    z2= karatsuba(high1, high2)\n",
    "\n",
    "    z0= karatsuba(low1, low2)\n",
    "\n",
    "    z1 = karatsuba( (low1+high1), (low2+high2) )  - z0 - z2\n",
    "\n",
    "\n",
    "    # return product\n",
    "    return z2 * 10**(2*half) + z1 * 10**(half) + z0\n",
    "\n",
    "\n",
    "\n",
    "if __name__ == \"__main__\":\n",
    "\n",
    "    bin1 = input(\"Enter first binary string : \")\n",
    "    bin2 = input(\"Enter second binary string : \")\n",
    "\n",
    "    dec1 = int(bin1, 2)\n",
    "    dec2 = int(bin2, 2)\n",
    "\n",
    "    result = karatsuba(dec1, dec2)\n",
    "    print(\"Product in binary:\", bin(result)[2:])\n",
    "    print(\"Product in decimal:\", result)"
   ]
  },
  {
   "cell_type": "code",
   "execution_count": null,
   "metadata": {},
   "outputs": [],
   "source": []
  }
 ],
 "metadata": {
  "kernelspec": {
   "display_name": "Python 3",
   "language": "python",
   "name": "python3"
  },
  "language_info": {
   "codemirror_mode": {
    "name": "ipython",
    "version": 3
   },
   "file_extension": ".py",
   "mimetype": "text/x-python",
   "name": "python",
   "nbconvert_exporter": "python",
   "pygments_lexer": "ipython3",
   "version": "3.12.6"
  }
 },
 "nbformat": 4,
 "nbformat_minor": 2
}
