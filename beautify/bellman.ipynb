{
 "cells": [
  {
   "cell_type": "code",
   "execution_count": 8,
   "metadata": {},
   "outputs": [],
   "source": [
    "class BellmanFord:\n",
    "\n",
    "    def __init__(self, vertices):\n",
    "        self.vertices = vertices\n",
    "        self.edges= []\n",
    "\n",
    "    def add_edge(self, u, v, weight):\n",
    "        self.edges.append((u, v, weight))\n",
    "\n",
    "    def bellmanford(self, source):\n",
    "        \n",
    "        # make dist as infinity\n",
    "        distance = [float('inf')]*self.vertices\n",
    "        distance[source] = 0      # self dist = 0\n",
    "\n",
    "\n",
    "        #  make v-1 passes\n",
    "        for i in range(self.vertices-1):\n",
    "            for u, v, weight in self.edges:\n",
    "                if distance[u] != float('inf') and distance[u] + weight < distance[v]:\n",
    "                    distance[v] = distance[u] + weight\n",
    "\n",
    "\n",
    "        #  check for 1 more pass\n",
    "        for i in range(self.vertices-1):\n",
    "            for u, v, weight in self.edges:\n",
    "                if distance[u] != float('inf') and distance[u] + weight < distance[v]:\n",
    "                    \n",
    "                    # negative cycle\n",
    "                    print(\"Graph has negative cycle\")\n",
    "                    return\n",
    "\n",
    "\n",
    "        #  if all ok\n",
    "        print(\"Vertex Distance from the Source\")\n",
    "        for i in range(self.vertices):\n",
    "            print(f\"vertex {i} : {distance[i]}\")"
   ]
  },
  {
   "cell_type": "code",
   "execution_count": 9,
   "metadata": {},
   "outputs": [
    {
     "name": "stdout",
     "output_type": "stream",
     "text": [
      "Enter the edges in the format (u v weight):\n",
      "Vertex Distance from the Source\n",
      "vertex 0 : 0\n",
      "vertex 1 : -1\n",
      "vertex 2 : 2\n",
      "vertex 3 : -2\n",
      "vertex 4 : 1\n"
     ]
    }
   ],
   "source": [
    "if __name__ == \"__main__\":\n",
    "\n",
    "    vertices = int(input(\"Enter the number of vertices: \"))\n",
    "    edges = int(input(\"Enter the number of edges: \"))\n",
    "    \n",
    "    graph = BellmanFord(vertices)\n",
    "\n",
    "    print(\"Enter the edges in the format (u v weight):\")\n",
    "\n",
    "    for i in range(edges):\n",
    "        u, v, w = map(int, input().split())\n",
    "        graph.add_edge(u, v, w)\n",
    "\n",
    "    source = int(input(\"Enter Source Vertex : \"))\n",
    "    graph.bellmanford(source)"
   ]
  },
  {
   "cell_type": "code",
   "execution_count": null,
   "metadata": {},
   "outputs": [],
   "source": []
  }
 ],
 "metadata": {
  "kernelspec": {
   "display_name": "Python 3",
   "language": "python",
   "name": "python3"
  },
  "language_info": {
   "codemirror_mode": {
    "name": "ipython",
    "version": 3
   },
   "file_extension": ".py",
   "mimetype": "text/x-python",
   "name": "python",
   "nbconvert_exporter": "python",
   "pygments_lexer": "ipython3",
   "version": "3.12.6"
  }
 },
 "nbformat": 4,
 "nbformat_minor": 2
}
